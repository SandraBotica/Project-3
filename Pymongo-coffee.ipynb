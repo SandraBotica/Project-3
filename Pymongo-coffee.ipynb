{
 "cells": [
  {
   "attachments": {},
   "cell_type": "markdown",
   "metadata": {},
   "source": [
    "# Text used to import data from the Terminal\n",
    "\n",
    "'''shell\n",
    "mongoimport --type csv -d coffee_db -c imports --headerline --drop imports.csv\n",
    "'''\n",
    "\n",
    "'''shell\n",
    "mongoimport --type csv -d coffee_db -c non_member_imports --headerline --drop non_member_imports.csv\n",
    "'''\n",
    "\n",
    "'''shell\n",
    "mongoimport --type csv -d coffee_db -c exports --headerline --drop exports.csv\n",
    "'''\n",
    "\n",
    "'''shell\n",
    "mongoimport --type csv -d coffee_db -c prices_paid_to_growers --headerline --drop prices_paid_to_growers.csv\n",
    "'''\n",
    "\n",
    "'''shell\n",
    "mongoimport --type csv -d coffee_db -c retail_prices --headerline --drop retail_prices.csv\n",
    "'''"
   ]
  },
  {
   "cell_type": "code",
   "execution_count": 13,
   "metadata": {},
   "outputs": [],
   "source": [
    "from pymongo import MongoClient"
   ]
  },
  {
   "cell_type": "code",
   "execution_count": 14,
   "metadata": {},
   "outputs": [],
   "source": [
    "# Create an instance of MongoClient\n",
    "mongo = MongoClient(port=27017)"
   ]
  },
  {
   "cell_type": "code",
   "execution_count": 15,
   "metadata": {},
   "outputs": [],
   "source": [
    "# Declare the database\n",
    "db = mongo.coffee_db\n",
    "\n",
    "# Declare the collection\n",
    "coffee = db.coffee"
   ]
  },
  {
   "cell_type": "code",
   "execution_count": 16,
   "metadata": {},
   "outputs": [
    {
     "name": "stdout",
     "output_type": "stream",
     "text": [
      "['admin', 'coffee_db', 'config', 'local']\n"
     ]
    }
   ],
   "source": [
    "# confirm that our new database was created\n",
    "print(mongo.list_database_names())"
   ]
  },
  {
   "cell_type": "code",
   "execution_count": 17,
   "metadata": {},
   "outputs": [
    {
     "name": "stdout",
     "output_type": "stream",
     "text": [
      "['retail_prices', 'imports', 'exports', 'non_member_imports', 'prices_paid_to_growers']\n"
     ]
    }
   ],
   "source": [
    "# review the collections in our new database\n",
    "print(db.list_collection_names())"
   ]
  },
  {
   "cell_type": "code",
   "execution_count": 20,
   "metadata": {},
   "outputs": [
    {
     "data": {
      "text/plain": [
       "['admin', 'config', 'local']"
      ]
     },
     "execution_count": 20,
     "metadata": {},
     "output_type": "execute_result"
    }
   ],
   "source": [
    "mongo.drop_database(\"coffee_db\")\n",
    "mongo.list_database_names()"
   ]
  }
 ],
 "metadata": {
  "kernelspec": {
   "display_name": "PythonData",
   "language": "python",
   "name": "python3"
  },
  "language_info": {
   "codemirror_mode": {
    "name": "ipython",
    "version": 3
   },
   "file_extension": ".py",
   "mimetype": "text/x-python",
   "name": "python",
   "nbconvert_exporter": "python",
   "pygments_lexer": "ipython3",
   "version": "3.7.7"
  },
  "orig_nbformat": 4
 },
 "nbformat": 4,
 "nbformat_minor": 2
}
