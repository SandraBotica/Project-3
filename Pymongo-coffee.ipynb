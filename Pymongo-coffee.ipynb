{
 "cells": [
  {
   "attachments": {},
   "cell_type": "markdown",
   "metadata": {},
   "source": [
    "# Text used to import data from the Terminal\n",
    "\n",
    "'''shell\n",
    "mongoimport --type csv -d coffee_db -c imports --headerline --drop imports.csv\n",
    "'''\n",
    "\n",
    "'''shell\n",
    "mongoimport --type csv -d coffee_db -c non_member_imports --headerline --drop non_member_imports.csv\n",
    "'''\n",
    "\n",
    "'''shell\n",
    "mongoimport --type csv -d coffee_db -c exports --headerline --drop exports.csv\n",
    "'''\n",
    "\n",
    "'''shell\n",
    "mongoimport --type csv -d coffee_db -c prices_paid_to_growers --headerline --drop prices_paid_to_growers.csv\n",
    "'''\n",
    "\n",
    "'''shell\n",
    "mongoimport --type csv -d coffee_db -c retail_prices --headerline --drop retail_prices.csv\n",
    "'''"
   ]
  },
  {
   "cell_type": "code",
   "execution_count": null,
   "metadata": {},
   "outputs": [],
   "source": [
    "from pymongo import MongoClient\n",
    "from pprint import pprint"
   ]
  },
  {
   "cell_type": "code",
   "execution_count": null,
   "metadata": {},
   "outputs": [],
   "source": [
    "# Create an instance of MongoClient\n",
    "mongo = MongoClient(port=27017)"
   ]
  },
  {
   "cell_type": "code",
   "execution_count": null,
   "metadata": {},
   "outputs": [],
   "source": [
    "# Declare the database\n",
    "db = mongo.coffee_db\n",
    "\n",
    "# Declare the collection\n",
    "coffee = db.coffee"
   ]
  },
  {
   "cell_type": "code",
   "execution_count": null,
   "metadata": {},
   "outputs": [],
   "source": [
    "# confirm that our new database was created\n",
    "print(mongo.list_database_names())"
   ]
  },
  {
   "cell_type": "code",
   "execution_count": null,
   "metadata": {},
   "outputs": [],
   "source": [
    "# review the collections in our new database\n",
    "print(db.list_collection_names())"
   ]
  },
  {
   "cell_type": "code",
   "execution_count": null,
   "metadata": {},
   "outputs": [],
   "source": [
    "# review a document in the exports collection\n",
    "pprint(db.exports.find_one())"
   ]
  },
  {
   "cell_type": "code",
   "execution_count": null,
   "metadata": {},
   "outputs": [],
   "source": [
    "# assign the exports collection to a variable\n",
    "exports = db['exports']"
   ]
  },
  {
   "cell_type": "code",
   "execution_count": null,
   "metadata": {},
   "outputs": [],
   "source": [
    "# review a document in the imports collection\n",
    "pprint(db.imports.find_one())"
   ]
  },
  {
   "cell_type": "code",
   "execution_count": null,
   "metadata": {},
   "outputs": [],
   "source": [
    "# assign the imports collection to a variable\n",
    "imports = db['imports']"
   ]
  },
  {
   "cell_type": "code",
   "execution_count": null,
   "metadata": {},
   "outputs": [],
   "source": [
    "# review a document in the non_member_imports collection\n",
    "pprint(db.non_member_imports.find_one())"
   ]
  },
  {
   "cell_type": "code",
   "execution_count": null,
   "metadata": {},
   "outputs": [],
   "source": [
    "# assign the non_member_imports collection to a variable\n",
    "non_member_imports = db['non_member_imports']"
   ]
  },
  {
   "cell_type": "code",
   "execution_count": null,
   "metadata": {},
   "outputs": [],
   "source": [
    "# review a document in the prices_paid_to_growers collection\n",
    "pprint(db.prices_paid_to_growers.find_one())"
   ]
  },
  {
   "cell_type": "code",
   "execution_count": null,
   "metadata": {},
   "outputs": [],
   "source": [
    "# assign the prices_paid_to_growers collection to a variable\n",
    "prices_paid_to_growers = db['prices_paid_to_growers']"
   ]
  },
  {
   "cell_type": "code",
   "execution_count": null,
   "metadata": {},
   "outputs": [],
   "source": [
    "# review a document in the retail_prices collection\n",
    "pprint(db.retail_prices.find_one())"
   ]
  },
  {
   "cell_type": "code",
   "execution_count": null,
   "metadata": {},
   "outputs": [],
   "source": [
    "# assign the retail_prices collection to a variable\n",
    "retail_prices = db['retail_prices']"
   ]
  },
  {
   "cell_type": "code",
   "execution_count": null,
   "metadata": {},
   "outputs": [],
   "source": [
    "# mongo.drop_database(\"coffee_db\")\n",
    "# mongo.list_database_names()"
   ]
  }
 ],
 "metadata": {
  "kernelspec": {
   "display_name": "PythonData",
   "language": "python",
   "name": "python3"
  },
  "language_info": {
   "codemirror_mode": {
    "name": "ipython",
    "version": 3
   },
   "file_extension": ".py",
   "mimetype": "text/x-python",
   "name": "python",
   "nbconvert_exporter": "python",
   "pygments_lexer": "ipython3",
   "version": "3.7.7"
  },
  "orig_nbformat": 4
 },
 "nbformat": 4,
 "nbformat_minor": 2
}
