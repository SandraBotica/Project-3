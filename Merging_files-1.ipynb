{
 "cells": [
  {
   "cell_type": "code",
   "execution_count": 9,
   "metadata": {},
   "outputs": [],
   "source": [
    "\n",
    "# Import dependencies\n",
    "import glob\n",
    "import os\n",
    "import pandas as pd\n",
    "import numpy as np\n",
    "import matplotlib.pyplot as plt\n",
    "import re\n",
    "from datetime import datetime as dt \n",
    "pd.set_option('max_colwidth', 400)"
   ]
  },
  {
   "cell_type": "code",
   "execution_count": 11,
   "metadata": {},
   "outputs": [],
   "source": [
    "#read the path\n",
    "path = \"../Project-3/cleaned_resources\"\n",
    "\n",
    "# csv files in the path\n",
    "file_list = glob.glob(path + \"/*.xlsx\")\n",
    "\n",
    "# list of excel files we want to merge.\n",
    "# pd.read_excel(file_path) reads the excel\n",
    "# data into pandas dataframe.\n",
    "excl_list = []\n",
    "\n",
    "for file in file_list:\n",
    "\texcl_list.append(pd.read_excel(file, engine = 'openpyxl'))\n",
    "\n",
    "# create a new dataframe to store the\n",
    "# merged excel file.\n",
    "excl_merged = pd.concat(excl_list, ignore_index=True)\n",
    "\n",
    "\t\n",
    "excl_merged.to_excel('coffee.xlsx', index=False)\n"
   ]
  },
  {
   "cell_type": "code",
   "execution_count": 13,
   "metadata": {},
   "outputs": [],
   "source": [
    "excl_merged.to_excel(('../Project-3/cleaned_resources/coffee.xlsx'))"
   ]
  }
 ],
 "metadata": {
  "kernelspec": {
   "display_name": "PythonData",
   "language": "python",
   "name": "python3"
  },
  "language_info": {
   "codemirror_mode": {
    "name": "ipython",
    "version": 3
   },
   "file_extension": ".py",
   "mimetype": "text/x-python",
   "name": "python",
   "nbconvert_exporter": "python",
   "pygments_lexer": "ipython3",
   "version": "3.7.7"
  },
  "orig_nbformat": 4
 },
 "nbformat": 4,
 "nbformat_minor": 2
}
